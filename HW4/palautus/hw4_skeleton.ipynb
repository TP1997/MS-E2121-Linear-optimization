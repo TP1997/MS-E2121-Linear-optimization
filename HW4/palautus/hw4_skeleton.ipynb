{
 "cells": [
  {
   "cell_type": "code",
   "execution_count": 1,
   "metadata": {},
   "outputs": [
    {
     "name": "stderr",
     "output_type": "stream",
     "text": [
      "\u001b[32m\u001b[1m    Updating\u001b[22m\u001b[39m registry at `/opt/julia/registries/General`\n",
      "\u001b[32m\u001b[1m   Resolving\u001b[22m\u001b[39m package versions...\n",
      "\u001b[32m\u001b[1m  No Changes\u001b[22m\u001b[39m to `/opt/julia/environments/v1.6/Project.toml`\n",
      "\u001b[32m\u001b[1m  No Changes\u001b[22m\u001b[39m to `/opt/julia/environments/v1.6/Manifest.toml`\n"
     ]
    }
   ],
   "source": [
    "# It seems that JLD2 package is not present in jupyter server?\n",
    "import Pkg;\n",
    "Pkg.add(\"JLD2\")"
   ]
  },
  {
   "cell_type": "code",
   "execution_count": 3,
   "metadata": {},
   "outputs": [],
   "source": [
    "using JuMP               # To write the optimisation models\n",
    "using Cbc, Clp           # Solvers \n",
    "using Test               # Testing package\n",
    "using JLD2;              # File I/O"
   ]
  },
  {
   "cell_type": "markdown",
   "metadata": {},
   "source": [
    "# Homework 4\n",
    "\n",
    "## Problem description\n",
    "\n",
    "We need to fulfil the demand of clients using different servers. The demand and set of clients are unknown when making the decision on which servers to use. Consider the parameters:\n",
    "- $C_j$ - cost of installing server $j$\n",
    "- $P_s$ - probability of scenario $s$\n",
    "- $F$ - cost of unmet demand (same for all clients $i$, servers $j$ and scenarios $s$)\n",
    "- $Q_{ij}$ - benefit per one unit of demand of client $i$ served by server $j$\n",
    "- $V$ - maximum allowed number of servers\n",
    "- $D_{is}$ - demand of client $i$ in scenario $s$\n",
    "- $U$ - maximum capacity of a server (same for all servers and scenarios)\n",
    "- $H_{is}$ - a binary variable with value 1 if client $i$ is active in scenario $s$, i.e., the demand $D_{is}$ has to be fulfilled\n",
    "\n",
    "Let the variables be\n",
    "\n",
    "- $x_j$ - binary variable with value 1 if server $j$ is made available, i.e., built or installed\n",
    "- $y_{ijs}$ - the proportion of demand $D_{is}$ fulfilled by server $j$. The total demand of $i$ served by $j$ is thus $y_{ijs} \\times D_{is}$\n",
    "- $z_{js}$ - capacity shortage for server $j$. If demand is not met otherwise, any server $j$ can procure emergency capacity at a price $F$.\n",
    "\n",
    "\n",
    "The model is then given by:\n",
    "\n",
    "\\begin{align}\n",
    "    \\min_{x_j, z_{js}, y_{ijs}} & \\sum_{j \\in J} C_j x_j + \\sum_{s} P_s \\left( - \\sum_{i \\in I,j \\in J}Q_{ij}D_{is}y_{ijs} + \\sum_{j \\in J} Fz_{js} \\right) \\\\\n",
    "    \\text{s.t.: } & \\sum_{j \\in J} x_j \\leq V   & (t)\\\\\n",
    "    & \\sum_{i \\in I} D_{is}y_{ijs} - z_{js} \\leq Ux_j, \\forall j \\in J, s \\in S  & (u_{js})\\\\\n",
    "    & \\sum_{j \\in J} y_{ijs} = H_{is}, \\forall i \\in I, s \\in S  & (v_{is}) \\\\\n",
    "    & x_j \\in \\{0,1\\}, \\ \\forall j \\in J \\\\\n",
    "    & y_{ijs} \\geq 0, \\ \\forall i \\in I, \\forall j \\in J, \\forall s \\in S \\\\\n",
    "    & z_{js} \\geq 0, \\ \\forall j \\in J, \\forall s \\in S\n",
    "\\end{align}\n",
    "\n",
    ", where $t$, $u_{js}$, and $v_{is}$ are the dual variables related to the constraints in the model."
   ]
  },
  {
   "cell_type": "code",
   "execution_count": 4,
   "metadata": {},
   "outputs": [],
   "source": [
    "struct Instance\n",
    "    # sets\n",
    "    I  # Set of clients\n",
    "    J  # Set of servers\n",
    "    S  # Set of scenarios\n",
    "    # Parameters \n",
    "    V  # Max number of servers\n",
    "    P  # Scenario probabilities\n",
    "    H  # 1 if client requires service\n",
    "    C  # Cost of locating server at j\n",
    "    F  # Cost of unmet demand\n",
    "    D  # Demand in location i served from server j\n",
    "    Q  # Benefit per unit of demand served\n",
    "    U  # Maximum server capacity (same for all servers)\n",
    "    loc_i # Coordinates of clients\n",
    "    loc_j # Coordinates of servers\n",
    "end"
   ]
  },
  {
   "cell_type": "code",
   "execution_count": 5,
   "metadata": {},
   "outputs": [],
   "source": [
    "f = jldopen(\"hw4_ins.jld2\")\n",
    "ins = nothing\n",
    "try\n",
    "    ins = f[\"ins\"]\n",
    "finally\n",
    "    close(f)\n",
    "end;"
   ]
  },
  {
   "cell_type": "markdown",
   "metadata": {},
   "source": [
    "# Task 1: implementing the large-scale model\n",
    "\n",
    "## Model construction \n",
    "\n",
    "In the following, the full model must be implemented and solved using Cbc."
   ]
  },
  {
   "cell_type": "code",
   "execution_count": 6,
   "metadata": {},
   "outputs": [
    {
     "data": {
      "text/plain": [
       "generate_full_problem (generic function with 1 method)"
      ]
     },
     "execution_count": 6,
     "metadata": {},
     "output_type": "execute_result"
    }
   ],
   "source": [
    "function generate_full_problem(ins)\n",
    "    I = ins.I \n",
    "    J = ins.J\n",
    "    S = ins.S\n",
    "    V = ins.V \n",
    "    P = ins.P\n",
    "    H = ins.H\n",
    "    C = ins.C\n",
    "    F = ins.F\n",
    "    D = ins.D\n",
    "    Q = ins.Q\n",
    "    U = ins.U\n",
    "    # Write the full model in JuMP\n",
    "\n",
    "    # Initialize model\n",
    "    m = Model(Cbc.Optimizer)\n",
    "    \n",
    "    # TODO: add your code here\n",
    "    @variable(m, x[j=J], Bin)\n",
    "    @variable(m, y[i=I,j=J,s=S] >= 0)\n",
    "    @variable(m, z[j=J, s=S] >= 0)\n",
    "    \n",
    "    @objective(m, Min,\n",
    "            sum(C[j]*x[j] for j in J) +\n",
    "            F * sum(P[s] * z[j,s] for s in S, j in J) -\n",
    "            sum(P[s] * Q[i,j] * D[i,s] * y[i,j,s] for s in S, i in I, j in J))\n",
    "    \n",
    "    @constraint(m, sum(x[j] for j in J) <= V)\n",
    "    @constraint(m, [j in J, s in S], sum(D[i,s] * y[i,j,s] for i in I) <= U * x[j] + z[j,s])\n",
    "    @constraint(m, [i in I, s in S], sum(y[i,j,s] for j in J) <= H[i,s])\n",
    "    # Return the generated model\n",
    "    return m\n",
    "end"
   ]
  },
  {
   "cell_type": "code",
   "execution_count": 7,
   "metadata": {},
   "outputs": [
    {
     "name": "stdout",
     "output_type": "stream",
     "text": [
      "Welcome to the CBC MILP Solver \n",
      "Version: 2.10.5 \n",
      "Build Date: Jan  1 1970 \n",
      "\n",
      "command line - Cbc_C_Interface -solve -quit (default strategy 1)\n",
      "Continuous objective value is -1389.26 - 0.20 seconds\n",
      "Cgl0004I processed model has 2900 rows, 12500 columns (5 integer (5 of which binary)) and 24995 elements\n",
      "Cbc0038I Initial state - 5 integers unsatisfied sum - 1.36429\n",
      "Cbc0038I Pass   1: suminf.    0.00000 (0) obj. 6024.31 iterations 1953\n",
      "Cbc0038I Solution found of 6024.31\n",
      "Cbc0038I Relaxing continuous gives 0\n",
      "Cbc0038I Before mini branch and bound, 0 integers at bound fixed and 10398 continuous\n",
      "Cbc0038I Full problem 2900 rows 12500 columns, reduced to 698 rows 2094 columns\n",
      "Cbc0038I Mini branch and bound did not improve solution (0.41 seconds)\n",
      "Cbc0038I Round again with cutoff of -138.893\n",
      "Cbc0038I Pass   2: suminf.    0.10365 (2) obj. -138.893 iterations 1623\n",
      "Cbc0038I Pass   3: suminf.    0.00000 (0) obj. -138.893 iterations 409\n",
      "Cbc0038I Solution found of -138.893\n",
      "Cbc0038I Relaxing continuous gives -1268.38\n",
      "Cbc0038I Before mini branch and bound, 0 integers at bound fixed and 9907 continuous\n",
      "Cbc0038I Mini branch and bound did not improve solution (0.93 seconds)\n",
      "Cbc0038I Round again with cutoff of -1292.49\n",
      "Cbc0038I Pass   4: suminf.    0.98900 (5) obj. -1292.49 iterations 2533\n",
      "Cbc0038I Pass   5: suminf.    1.00000 (3) obj. -1292.49 iterations 3639\n",
      "Cbc0038I Pass   6: suminf.    0.00000 (0) obj. -1292.49 iterations 2490\n",
      "Cbc0038I Solution found of -1292.49\n",
      "Cbc0038I Relaxing continuous gives -1317.5\n",
      "Cbc0038I Before mini branch and bound, 0 integers at bound fixed and 7882 continuous\n",
      "Cbc0038I Full problem 2900 rows 12500 columns, reduced to 2623 rows 4618 columns - 1 fixed gives 1808, 3825 - still too large\n",
      "Cbc0038I Mini branch and bound did not improve solution (1.87 seconds)\n",
      "Cbc0038I Round again with cutoff of -1338.93\n",
      "Cbc0038I Pass   7: suminf.    1.04118 (5) obj. -1338.93 iterations 3131\n",
      "Cbc0038I Pass   8: suminf.    1.27632 (4) obj. -1338.93 iterations 4258\n",
      "Cbc0038I Pass   9: suminf.    0.21380 (3) obj. -1338.93 iterations 3929\n",
      "Cbc0038I Pass  10: suminf.    1.23538 (3) obj. -1338.93 iterations 5195\n",
      "Cbc0038I Pass  11: suminf.    0.80510 (2) obj. -1338.93 iterations 1319\n",
      "Cbc0038I Pass  12: suminf.    0.33815 (1) obj. -1338.93 iterations 1183\n",
      "Cbc0038I Pass  13: suminf.    1.06079 (3) obj. -1338.93 iterations 4843\n",
      "Cbc0038I No solution found this major pass\n",
      "Cbc0038I After 3.81 seconds - Feasibility pump exiting with objective of -1317.5 - took 3.54 seconds\n",
      "Cbc0012I Integer solution of -1317.4973 found by feasibility pump after 0 iterations and 0 nodes (3.86 seconds)\n",
      "Cbc0012I Integer solution of -1327.3664 found by DiveCoefficient after 0 iterations and 0 nodes (3.99 seconds)\n",
      "Cbc0031I 3959 added rows had average density of 5.8320283\n",
      "Cbc0013I At root node, 3959 cuts changed objective from -1388.9271 to -1336.5392 in 16 passes\n",
      "Cbc0014I Cut generator 0 (Probing) - 0 row cuts average 0.0 elements, 0 column cuts (1303 active)  in 0.026 seconds - new frequency is -100\n",
      "Cbc0014I Cut generator 1 (Gomory) - 65 row cuts average 241.8 elements, 0 column cuts (0 active)  in 0.048 seconds - new frequency is -100\n",
      "Cbc0014I Cut generator 2 (Knapsack) - 0 row cuts average 0.0 elements, 0 column cuts (0 active)  in 0.020 seconds - new frequency is -100\n",
      "Cbc0014I Cut generator 3 (Clique) - 0 row cuts average 0.0 elements, 0 column cuts (0 active)  in 0.002 seconds - new frequency is -100\n",
      "Cbc0014I Cut generator 4 (MixedIntegerRounding2) - 10658 row cuts average 5.8 elements, 0 column cuts (0 active)  in 0.074 seconds - new frequency is 1\n",
      "Cbc0014I Cut generator 5 (FlowCover) - 0 row cuts average 0.0 elements, 0 column cuts (0 active)  in 0.086 seconds - new frequency is -100\n",
      "Cbc0014I Cut generator 6 (TwoMirCuts) - 3722 row cuts average 8.4 elements, 0 column cuts (0 active)  in 0.098 seconds - new frequency is 1\n",
      "Cbc0010I After 0 nodes, 1 on tree, -1327.3664 best solution, best possible -1336.5392 (16.71 seconds)\n",
      "Cbc0001I Search completed - best objective -1327.366449586151, took 43715 iterations and 6 nodes (22.55 seconds)\n",
      "Cbc0032I Strong branching done 24 times (2400 iterations), fathomed 0 nodes and fixed 0 variables\n",
      "Cbc0035I Maximum depth 2, 0 variables fixed on reduced cost\n",
      "Cuts at root node changed objective from -1388.93 to -1336.54\n",
      "Probing was tried 16 times and created 0 cuts of which 1303 were active after adding rounds of cuts (0.026 seconds)\n",
      "Gomory was tried 16 times and created 65 cuts of which 0 were active after adding rounds of cuts (0.048 seconds)\n",
      "Knapsack was tried 16 times and created 0 cuts of which 0 were active after adding rounds of cuts (0.020 seconds)\n",
      "Clique was tried 16 times and created 0 cuts of which 0 were active after adding rounds of cuts (0.002 seconds)\n",
      "MixedIntegerRounding2 was tried 27 times and created 13914 cuts of which 0 were active after adding rounds of cuts (0.118 seconds)\n",
      "FlowCover was tried 16 times and created 0 cuts of which 0 were active after adding rounds of cuts (0.086 seconds)\n",
      "TwoMirCuts was tried 27 times and created 4452 cuts of which 0 were active after adding rounds of cuts (0.144 seconds)\n",
      "ZeroHalf was tried 1 times and created 0 cuts of which 0 were active after adding rounds of cuts (0.000 seconds)\n",
      "\n",
      "Result - Optimal solution found\n",
      "\n",
      "Objective value:                -1327.36644959\n",
      "Enumerated nodes:               6\n",
      "Total iterations:               43715\n",
      "Time (CPU seconds):             22.81\n",
      "Time (Wallclock seconds):       22.93\n",
      "\n",
      "Total time (CPU seconds):       22.81   (Wallclock seconds):       22.93\n",
      "\n"
     ]
    }
   ],
   "source": [
    "fullmodel = generate_full_problem(ins)\n",
    "# set_silent(fullmodel)\n",
    "optimize!(fullmodel)"
   ]
  },
  {
   "cell_type": "code",
   "execution_count": 8,
   "metadata": {},
   "outputs": [
    {
     "name": "stdout",
     "output_type": "stream",
     "text": [
      "x_bar = Int.(round.(value.(fullmodel[:x]).data)) = [0, 0, 0, 1, 1]\n",
      "opt_z = sum(value.(fullmodel[:z])) = 0.0\n",
      "objective_value(fullmodel) = -1327.366449586151\n"
     ]
    }
   ],
   "source": [
    "# Examine the solutions\n",
    "@show x_bar = Int.(round.(value.(fullmodel[:x]).data))\n",
    "@show opt_z = sum(value.(fullmodel[:z]))\n",
    "@show objective_value(fullmodel);"
   ]
  },
  {
   "cell_type": "markdown",
   "metadata": {},
   "source": [
    "# Task 2: Benders decomposition\n",
    "\n",
    "## Benders main\n",
    "\n",
    "Formulate the initial main problem for the decomposition. Use a single variable $\\theta$ for representing the subproblem value."
   ]
  },
  {
   "cell_type": "code",
   "execution_count": 9,
   "metadata": {},
   "outputs": [
    {
     "data": {
      "text/plain": [
       "generate_main (generic function with 1 method)"
      ]
     },
     "execution_count": 9,
     "metadata": {},
     "output_type": "execute_result"
    }
   ],
   "source": [
    "## Benders decomposition\n",
    "\n",
    "## Generates the main problem\n",
    "function generate_main(ins)\n",
    "    \n",
    "    J = ins.J\n",
    "    V = ins.V\n",
    "    C = ins.C\n",
    "     \n",
    "    main = Model(Cbc.Optimizer)\n",
    "    set_silent(main)\n",
    "    \n",
    "    # TODO: add your code here\n",
    "    @variable(main, x[j=J], Bin)\n",
    "    @variable(main, θ)\n",
    "    \n",
    "    @objective(main, Min, sum(C[j]*x[j] for j in J) + θ)\n",
    "    \n",
    "    @constraint(main, sum(x[j] for j in J) <= V)\n",
    "    return main  \n",
    "end"
   ]
  },
  {
   "cell_type": "code",
   "execution_count": 10,
   "metadata": {},
   "outputs": [
    {
     "data": {
      "text/plain": [
       "solve_main (generic function with 1 method)"
      ]
     },
     "execution_count": 10,
     "metadata": {},
     "output_type": "execute_result"
    }
   ],
   "source": [
    "# Solve the main problem\n",
    "function solve_main(ins, main)\n",
    "    optimize!(main)\n",
    "    return value.(main[:x]), value(main[:θ]), objective_value(main)    \n",
    "end"
   ]
  },
  {
   "cell_type": "markdown",
   "metadata": {},
   "source": [
    "## Subproblem\n",
    "\n",
    "Formulate the primal subproblem with corresponding objective value represented by the variable $\\theta$ in the main problem. The primal subproblem is not used in the decomposition algorithm, but you will use it to test your implementation of the dual subproblem. It might also be easier to start by formulating the primal problem and then work from there to obtain the its dual formulation."
   ]
  },
  {
   "cell_type": "code",
   "execution_count": 11,
   "metadata": {},
   "outputs": [
    {
     "data": {
      "text/plain": [
       "generate_and_solve_primal_subproblem (generic function with 1 method)"
      ]
     },
     "execution_count": 11,
     "metadata": {},
     "output_type": "execute_result"
    }
   ],
   "source": [
    "# Generate and solve the primal subproblem for a given x_bar. For test purposes only; if the dual is correct, the objective value of\n",
    "# the dual subproblem must be the same as this.\n",
    "function generate_and_solve_primal_subproblem(ins, x_bar)\n",
    "    \n",
    "    I = ins.I\n",
    "    J = ins.J\n",
    "    S = ins.S\n",
    "    D = ins.D\n",
    "    P = ins.P\n",
    "    Q = ins.Q\n",
    "    F = ins.F\n",
    "    U = ins.U\n",
    "    H = ins.H\n",
    "    \n",
    "    # set_silent works for Clp, and the subproblem should be an LP problem    \n",
    "    sub = Model(Clp.Optimizer)\n",
    "    set_silent(sub)\n",
    "    \n",
    "    # TODO: add your code here\n",
    "    @variable(sub, y[i=I,j=J,s=S] >= 0)\n",
    "    @variable(sub, z[j=J, s=S] >= 0)\n",
    "    \n",
    "    @objective(sub, Min, F * sum(P[s] * z[j,s] for s in S, j in J) - sum(P[s] * Q[i,j] * D[i,s] * y[i,j,s] for s in S, i in I, j in J))\n",
    "    \n",
    "    @constraint(sub, [j in J, s in S], sum(D[i,s] * y[i,j,s] for i in I) - z[j,s] <= U * x_bar[j])\n",
    "    @constraint(sub, [i in I, s in S], sum(y[i,j,s] for j in J) == H[i,s])\n",
    "    optimize!(sub)\n",
    "    return objective_value(sub)\n",
    "    \n",
    "end"
   ]
  },
  {
   "cell_type": "code",
   "execution_count": 12,
   "metadata": {},
   "outputs": [
    {
     "name": "stdout",
     "output_type": "stream",
     "text": [
      "obj = -1460.3664495861508\n"
     ]
    }
   ],
   "source": [
    "obj = generate_and_solve_primal_subproblem(ins, x_bar)\n",
    "@show obj;"
   ]
  },
  {
   "cell_type": "markdown",
   "metadata": {},
   "source": [
    "## Dual subproblem\n",
    "\n",
    "Formulate the dual subproblem. Consider the dual variables indicated in the fullmodel as we are expecting you to use the same names. Hint: You can find the conversion rules for primal and dual problems in Lecture 5."
   ]
  },
  {
   "cell_type": "code",
   "execution_count": 13,
   "metadata": {},
   "outputs": [
    {
     "data": {
      "text/plain": [
       "generate_and_solve_dual_subproblem (generic function with 1 method)"
      ]
     },
     "execution_count": 13,
     "metadata": {},
     "output_type": "execute_result"
    }
   ],
   "source": [
    "## Define Benders subproblem\n",
    "function generate_and_solve_dual_subproblem(ins, x_bar)\n",
    "    \n",
    "    I = ins.I\n",
    "    J = ins.J\n",
    "    S = ins.S\n",
    "    D = ins.D\n",
    "    P = ins.P\n",
    "    Q = ins.Q\n",
    "    F = ins.F\n",
    "    U = ins.U\n",
    "    H = ins.H\n",
    "    \n",
    "    # set_silent works for Clp, and the subproblem should be an LP problem\n",
    "    sub_dual = Model(Clp.Optimizer)\n",
    "    set_silent(sub_dual)\n",
    "    \n",
    "    # TODO: add your code here\n",
    "    @variable(sub_dual, v[i=I, s=S])\n",
    "    @variable(sub_dual, u[j=J, s=S] <= 0)\n",
    "    \n",
    "    @objective(sub_dual, Max, sum(H[i,s]*v[i,s] for s in S, i in I) + sum(U*x_bar[j]*u[j,s] for s in S, j in J))\n",
    "    \n",
    "    @constraint(sub_dual, [i in I, j in J, s in S], D[i,s]*u[j,s] + v[i,s] <= -P[s]*D[i,s]*Q[i,j])\n",
    "    @constraint(sub_dual, [j in J, s in S], -u[j,s] <= P[s]*F)\n",
    "\n",
    "    optimize!(sub_dual)\n",
    "    \n",
    "    u_bar = value.(sub_dual[:u])                     \n",
    "    v_bar = value.(sub_dual[:v])                     \n",
    "    opt_value = objective_value(sub_dual)\n",
    "    \n",
    "    return u_bar, v_bar, opt_value\n",
    "end"
   ]
  },
  {
   "cell_type": "markdown",
   "metadata": {},
   "source": [
    "## Benders cut\n",
    "\n",
    "Formulate the Benders optimality cut. Remember to explain in your report why you only need to consider one type of cut."
   ]
  },
  {
   "cell_type": "code",
   "execution_count": 14,
   "metadata": {},
   "outputs": [
    {
     "data": {
      "text/plain": [
       "add_benders_cut (generic function with 1 method)"
      ]
     },
     "execution_count": 14,
     "metadata": {},
     "output_type": "execute_result"
    }
   ],
   "source": [
    "# Add the Benders cut, given current dual values\n",
    "function add_benders_cut(ins, main, u_bar, v_bar)   \n",
    "    \n",
    "    U = ins.U\n",
    "    H = ins.H\n",
    "    I = ins.I\n",
    "    J = ins.J\n",
    "    S = ins.S\n",
    "    \n",
    "    x = main[:x]\n",
    "    θ = main[:θ]\n",
    "    \n",
    "    @constraint(main, sum(H[i,s]*v_bar[i,s] for s in S, i in I) + sum(U*x[j]*u_bar[j,s] for s in S, j in J) <= θ\n",
    "    # TODO: add your code here\n",
    "    )\n",
    "    return main\n",
    "end"
   ]
  },
  {
   "cell_type": "markdown",
   "metadata": {},
   "source": [
    "### Testing the subproblem formulation\n",
    "\n",
    "You can use the cell below to check whether your implementation of the subproblem is correct. For a fixed solution from the main problem, strong duality holds and thus these objective function values should match. We use `≈` which is equivalent to `approx()` to test whether the values are sufficiently close."
   ]
  },
  {
   "cell_type": "code",
   "execution_count": 15,
   "metadata": {},
   "outputs": [
    {
     "data": {
      "text/plain": [
       "\u001b[32m\u001b[1mTest Passed\u001b[22m\u001b[39m"
      ]
     },
     "execution_count": 15,
     "metadata": {},
     "output_type": "execute_result"
    }
   ],
   "source": [
    "## Test that the primal and dual solutions are the same\n",
    "(u,v,optval) = generate_and_solve_dual_subproblem(ins, x_bar)\n",
    "obj = generate_and_solve_primal_subproblem(ins, x_bar)\n",
    "@test optval ≈ obj"
   ]
  },
  {
   "cell_type": "markdown",
   "metadata": {},
   "source": [
    "## Benders decomposition algorithm\n",
    "\n",
    "Here you will combine the functions you defined before into the complete algorithm. \n",
    "\n",
    "Some hints:\n",
    "- You should add a cut before solving the main problem for the first time to make the problem bounded (in the initialisation of the algorithm).\n",
    "- For the single cut problem, you can ignore the indices $k$ on the lecture slides, as there is only one subproblem being solved."
   ]
  },
  {
   "cell_type": "code",
   "execution_count": 16,
   "metadata": {},
   "outputs": [
    {
     "data": {
      "text/plain": [
       "benders_decomposition (generic function with 1 method)"
      ]
     },
     "execution_count": 16,
     "metadata": {},
     "output_type": "execute_result"
    }
   ],
   "source": [
    "function benders_decomposition(ins; max_iter = 100)\n",
    "    \n",
    "    k = 1\n",
    "    ϵ = 0.01\n",
    "    LB = -Inf\n",
    "    UB = +Inf\n",
    "    gap = +Inf\n",
    "    x_bar = zeros(length(ins.J))\n",
    "    \n",
    "    start = time()\n",
    "    \n",
    "    # TODO: initialize the main problem and add one Benders cut to make the problem bounded\n",
    "    main = generate_main(ins)\n",
    "    (u_bar,v_bar,optval) = generate_and_solve_dual_subproblem(ins, x_bar)\n",
    "    main = add_benders_cut(ins, main, u_bar, v_bar)\n",
    "    while k <= max_iter && gap > ϵ\n",
    "        # TODO: obtain necessary solutions\n",
    "        (x_bar, θ_bar, obj_val_main) = solve_main(ins, main)\n",
    "        (u_bar, v_bar, obj_val_SD) = generate_and_solve_dual_subproblem(ins, x_bar)\n",
    "        \n",
    "        LB = obj_val_main # TODO: what is the lower bound for the objective?\n",
    "        UB = min(UB, obj_val_main - θ_bar + obj_val_SD) # TODO: what about the upper bound?\n",
    "        gap = abs((UB - LB) / UB)\n",
    "        println(\"Iter $(k): UB: $(UB), LB: $(LB), gap $(gap)\")\n",
    "        \n",
    "        if gap <= ϵ # Lower and upper bounds are (practically) same and the solution is thus optimal\n",
    "            stop = time()\n",
    "            println(\"Optimal found. \\n Objective value: $(round(UB, digits=2)). \\n Total time: $(round(stop-start, digits=2))s\")\n",
    "            return\n",
    "        else\n",
    "            # TODO: optimality not reached, modify the main problem for the next iteration\n",
    "            main = add_benders_cut(ins, main, u_bar, v_bar)\n",
    "            k += 1\n",
    "            end\n",
    "        end\n",
    "    println(\"Maximum number of iterations exceeded\")\n",
    "    end"
   ]
  },
  {
   "cell_type": "code",
   "execution_count": 17,
   "metadata": {},
   "outputs": [
    {
     "name": "stdout",
     "output_type": "stream",
     "text": [
      "Iter 1: UB: -1263.0273793846552, LB: -63877.147464181195, gap 49.57463401569492\n",
      "Iter 2: UB: -1263.0273793846552, LB: -63695.02737938466, gap 49.43044071650827\n",
      "Iter 3: UB: -1299.6094936117247, LB: -32539.027379384654, gap 24.03754207654789\n",
      "Iter 4: UB: -1303.8651121860437, LB: -32529.027379384654, gap 23.948153820027365\n",
      "Iter 5: UB: -1303.8651121860437, LB: -32523.60949361173, gap 23.94399856982373\n",
      "Iter 6: UB: -1303.8651121860437, LB: -32515.60949361173, gap 23.937862965822035\n",
      "Iter 7: UB: -1303.8651121860437, LB: -32473.865112186046, gap 23.905847091606567\n",
      "Iter 8: UB: -1303.8651121860437, LB: -32473.51268758718, gap 23.90557679938418\n",
      "Iter 9: UB: -1303.8651121860437, LB: -32469.60949361173, gap 23.902583242812284\n",
      "Iter 10: UB: -1303.8651121860437, LB: -32462.36977215019, gap 23.89703073481596\n",
      "Iter 11: UB: -1303.8651121860437, LB: -32459.60949361173, gap 23.894913737810164\n",
      "Iter 12: UB: -1303.8651121860437, LB: -32452.36977215019, gap 23.88936122981384\n",
      "Iter 13: UB: -1303.8651121860437, LB: -32450.51268758718, gap 23.887936937879306\n",
      "Iter 14: UB: -1303.8651121860437, LB: -32446.60949361173, gap 23.88494338130741\n",
      "Iter 15: UB: -1303.8651121860437, LB: -1391.2450057723545, gap 0.06701605309448826\n",
      "Iter 16: UB: -1303.8651121860437, LB: -1372.5126875871792, gap 0.05264929229223865\n",
      "Iter 17: UB: -1303.8651121860437, LB: -1368.6094936117297, gap 0.04965573572034335\n",
      "Iter 18: UB: -1303.8651121860437, LB: -1363.6094936117297, gap 0.04582098321928359\n",
      "Iter 19: UB: -1303.8651121860437, LB: -1356.3697721501812, gap 0.04026847522295378\n",
      "Iter 20: UB: -1327.366449586151, LB: -1330.1653584193482, gap 0.002108618033904521\n",
      "Optimal found. \n",
      " Objective value: -1327.37. \n",
      " Total time: 2.91s\n"
     ]
    }
   ],
   "source": [
    "benders_decomposition(ins)"
   ]
  },
  {
   "cell_type": "code",
   "execution_count": 18,
   "metadata": {},
   "outputs": [
    {
     "data": {
      "text/plain": [
       "-1327.366449586151"
      ]
     },
     "execution_count": 18,
     "metadata": {},
     "output_type": "execute_result"
    }
   ],
   "source": [
    "objective_value(fullmodel)"
   ]
  },
  {
   "cell_type": "markdown",
   "metadata": {},
   "source": [
    "# Task 3: \n",
    "\n",
    "## Benders components (multi-cut version)\n",
    "\n",
    "Your task is to create a version of the main problem with multiple Benders cuts being generated at each iteration, and the respective Benders cut. We refer to this version as the multi-cut version. \n",
    "\n",
    "Here is a bonus question that might give you ideas on how the implementation could be made more efficient: notice that the previous implementation of the dual subproblem is generating all the cut information at once, and that is why we can reutilise the function `solve_dual_subproblem(ins, x_bar)` here. Imagining that you have a number of parallel computing nodes available, can you see a way that the function `solve_dual_subproblem(ins, x_bar)` could be made more efficient? (bear in mind you are **not required** to implement or try anything in the direction of the answer to the bonus question, but only to give the question a thought!)"
   ]
  },
  {
   "cell_type": "code",
   "execution_count": 19,
   "metadata": {},
   "outputs": [
    {
     "data": {
      "text/plain": [
       "add_benders_cut_multi (generic function with 1 method)"
      ]
     },
     "execution_count": 19,
     "metadata": {},
     "output_type": "execute_result"
    }
   ],
   "source": [
    "## Benders decomposition: multi-cut\n",
    "\n",
    "## Generates the main problem\n",
    "function generate_main_multi(ins)\n",
    "    \n",
    "    J = ins.J\n",
    "    S = ins.S\n",
    "    V = ins.V\n",
    "    C = ins.C\n",
    "    \n",
    "    main = Model(Cbc.Optimizer)\n",
    "    set_silent(main)\n",
    "    \n",
    "    # TODO: add your code here\n",
    "    @variable(main, x[j=J], Bin)\n",
    "    @variable(main, θ[s=S])\n",
    "    \n",
    "    @objective(main, Min, sum(C[j]*x[j] for j in J) + sum(θ[s] for s in S))\n",
    "    \n",
    "    @constraint(main, sum(x[j] for j in J) <= V)\n",
    "    return main  \n",
    "end\n",
    "\n",
    "# Solve the main problem\n",
    "function solve_main_multi(ins, main)\n",
    "    \n",
    "    optimize!(main)\n",
    "    \n",
    "    return value.(main[:x]), value.(main[:θ]), objective_value(main)    \n",
    "\n",
    "end\n",
    "\n",
    "\n",
    "# Add the Benders cut, given current dual values\n",
    "function add_benders_cut_multi(ins, main, u_bar, v_bar)   \n",
    "    \n",
    "    U = ins.U\n",
    "    H = ins.H\n",
    "    I = ins.I\n",
    "    J = ins.J\n",
    "    S = ins.S\n",
    "\n",
    "    x = main[:x]\n",
    "    θ = main[:θ]\n",
    "    \n",
    "    @constraint(main, [s in S], sum(H[i,s]*v_bar[i,s] for i in I) + sum(U*x[j]*u_bar[j,s] for j in J) <= θ[s]\n",
    "    # TODO: add your code here\n",
    "    )\n",
    "\n",
    "    return main\n",
    "end"
   ]
  },
  {
   "cell_type": "code",
   "execution_count": 20,
   "metadata": {},
   "outputs": [
    {
     "data": {
      "text/plain": [
       "benders_decomposition_multi (generic function with 1 method)"
      ]
     },
     "execution_count": 20,
     "metadata": {},
     "output_type": "execute_result"
    }
   ],
   "source": [
    "function benders_decomposition_multi(ins; max_iter = 100)\n",
    "    \n",
    "    k = 1\n",
    "    ϵ = 0.01\n",
    "    LB = -Inf\n",
    "    UB = +Inf\n",
    "    gap = +Inf\n",
    "    x_bar = zeros(length(ins.J))\n",
    "    \n",
    "    start = time()\n",
    "    \n",
    "    # TODO: initialize the main problem and add one set of Benders cuts to make the problem bounded\n",
    "    main = generate_main_multi(ins)\n",
    "    (u_bar,v_bar,optval) = generate_and_solve_dual_subproblem(ins, x_bar)\n",
    "    main = add_benders_cut_multi(ins, main, u_bar, v_bar)\n",
    "    while k <= max_iter && gap > ϵ\n",
    "        # TODO: obtain necessary solutions\n",
    "        (x_bar, θ_bar, obj_val_main) = solve_main_multi(ins, main)\n",
    "        (u_bar, v_bar, obj_val_SD) = generate_and_solve_dual_subproblem(ins, x_bar)\n",
    "        \n",
    "        LB = obj_val_main # TODO: what is the lower bound for the objective?\n",
    "        UB = min(UB, obj_val_main - sum(θ_bar[s] for s in ins.S) + obj_val_SD)# TODO: what about the upper bound?\n",
    "        \n",
    "        gap = abs((UB - LB) / UB)\n",
    "        println(\"Iter $(k): UB: $(UB), LB: $(LB), gap $(gap)\")\n",
    "        \n",
    "        if gap <= ϵ # Lower and upper bounds are (practically) same and the solution is thus optimal\n",
    "            stop = time()\n",
    "            println(\"Optimal found. \\n Objective value: $(round(UB, digits=2)). \\n Total time: $(round(stop-start, digits=2))s\")\n",
    "            return\n",
    "        else\n",
    "            # TODO: optimality not reached, modify the main problem for the next iteration\n",
    "            main = add_benders_cut_multi(ins, main, u_bar, v_bar)\n",
    "            k += 1\n",
    "            end\n",
    "        end\n",
    "    println(\"Maximum number of iterations exceeded\")\n",
    "    end"
   ]
  },
  {
   "cell_type": "code",
   "execution_count": 21,
   "metadata": {},
   "outputs": [
    {
     "name": "stdout",
     "output_type": "stream",
     "text": [
      "Iter 1: UB: -1263.0273793846625, LB: -63877.14746418113, gap 49.57463401569458\n",
      "Iter 2: UB: -1263.0273793846625, LB: -61701.068317767415, gap 47.85172667264562\n",
      "Iter 3: UB: -1263.0273793846625, LB: -32483.24397196351, gap 24.71855883899295\n",
      "Iter 4: UB: -1263.0273793846625, LB: -32479.933919287298, gap 24.715938109838348\n",
      "Iter 5: UB: -1273.1081135244863, LB: -32471.933919287298, gap 24.50603014334081\n",
      "Iter 6: UB: -1278.2087360342412, LB: -32470.86182525683, gap 24.403410968697205\n",
      "Iter 7: UB: -1278.2087360342412, LB: -32469.755129527006, gap 24.402545151011388\n",
      "Iter 8: UB: -1278.2087360342412, LB: -32463.10586476371, gap 24.39734313308126\n",
      "Iter 9: UB: -1278.2087360342412, LB: -32454.341405397172, gap 24.390486303582712\n",
      "Iter 10: UB: -1278.2087360342412, LB: -32453.245446661687, gap 24.38962888592894\n",
      "Iter 11: UB: -1327.3664495861508, LB: -1329.9440775985843, gap 0.0019419113789090703\n",
      "Optimal found. \n",
      " Objective value: -1327.37. \n",
      " Total time: 5.86s\n"
     ]
    }
   ],
   "source": [
    "benders_decomposition_multi(ins)"
   ]
  }
 ],
 "metadata": {
  "kernelspec": {
   "display_name": "Julia 1.6.2",
   "language": "julia",
   "name": "julia-1.6"
  },
  "language_info": {
   "file_extension": ".jl",
   "mimetype": "application/julia",
   "name": "julia",
   "version": "1.6.2"
  }
 },
 "nbformat": 4,
 "nbformat_minor": 4
}
