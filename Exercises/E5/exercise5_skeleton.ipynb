{
  "cells": [
    {
      "cell_type": "markdown",
      "source": [
        "### Problem 5.1 - Capacitated transportation problem revisited\n*(Marginal costs via dual calculation)*\n#' \nAdding necessary packages:"
      ],
      "metadata": {}
    },
    {
      "outputs": [],
      "cell_type": "code",
      "source": [
        "# using Pkg\n# Pkg.add(\"GLPK\")"
      ],
      "metadata": {},
      "execution_count": null
    },
    {
      "outputs": [],
      "cell_type": "code",
      "source": [
        "## Packages\nusing JuMP, Cbc, GLPK # We need GLPK for obtaining duals"
      ],
      "metadata": {},
      "execution_count": null
    },
    {
      "cell_type": "markdown",
      "source": [
        "We start by defining the problem data"
      ],
      "metadata": {}
    },
    {
      "outputs": [],
      "cell_type": "code",
      "source": [
        "nS = 3 # Number of suppliers\nnD = 3 # Number of demand points\nnP = 2 # Number of products\n\nS = 1:nS\nD = 1:nD\nP = 1:nP\n\nA = [] # Set of arcs, we include arcs from all suppliers to all demand points\nfor s in S, d in D\n    push!(A, (s,d))\nend"
      ],
      "metadata": {},
      "execution_count": null
    },
    {
      "outputs": [],
      "cell_type": "code",
      "source": [
        "costs = zeros(nP,nS,nD) # Cost of transporting one unit of product d from supplier s to demand point d \ncosts[1,:,:] = [5 5 Inf; 8 9 7; Inf 10 8]\ncosts[2,:,:] = [Inf 18 Inf; 15 12 14; Inf 20 Inf]\n\nsup = [80 400; 200 1500; 200 300]\ndem = [60 300; 100 1000; 200 500]\n\ncap = [Inf 300 0; 300 700 600; 0 Inf Inf];"
      ],
      "metadata": {},
      "execution_count": null
    },
    {
      "outputs": [],
      "cell_type": "code",
      "source": [
        "## Define model using GLPK\nmodel = Model(GLPK.Optimizer);\n\n## Variables\n@variable(model, x[a in A, p in P; costs[p,a[1],a[2]] < Inf] >= 0);\n\n## OF\n@objective(model, Min, sum(costs[p,a[1],a[2]]*x[a,p] for p in P, a in A if costs[p,a[1],a[2]] < Inf));\n\n## Constraints\n@constraint(model, sup_con[s in S, p in P], sum(x[a,p] for a in A if costs[p,a[1],a[2]] < Inf && a[1] == s) <= sup[s,p]);       # sum of everything that leaves supplier s\n@constraint(model, dem_con[d in D, p in P], sum(x[a,p] for a in A if costs[p,a[1],a[2]] < Inf && a[2] == d) >= dem[d,p]);       # sum of everything that arrives at demand d\n@constraint(model, cap_con[a in A; cap[a[1],a[2]] < Inf], sum(x[a,p] for p in P if costs[p,a[1],a[2]] < Inf) <= cap[a[1],a[2]]);# arc capacity constraints"
      ],
      "metadata": {},
      "execution_count": null
    },
    {
      "outputs": [],
      "cell_type": "code",
      "source": [
        "set_silent(model) # Actually works with GLPK\noptimize!(model)\nstatus = termination_status(model)\nprintln(status)"
      ],
      "metadata": {},
      "execution_count": null
    },
    {
      "outputs": [],
      "cell_type": "code",
      "source": [
        "## Saving the optimal value\nobj = objective_value(model)"
      ],
      "metadata": {},
      "execution_count": null
    },
    {
      "cell_type": "markdown",
      "source": [
        "Function ``dual()`` in the ``JuMP`` library gives the value of the dual variable associated to the constraint at the optimal solution, in other words the *marginal costs*. Here we need using the elemnt-wise operator ``.`` as we have multiple constraints (check the domains). The *marginal costs* value stands for how much adding one unit more to the constraint's RHS (in the case is a $\\leq$ constraint) impacts the final result.<br/>\n<br/>\nOne interpretation for the *marginal costs* in this problem is how much the company is willing to pay for expanding the supplies' or the arcs' capacity (depending on if we're analysing the dual of the supplies or the arcs constraints)."
      ],
      "metadata": {}
    },
    {
      "outputs": [],
      "cell_type": "code",
      "source": [
        "## Computing the duals to infer the marginal costs\nmc_supply = dual.(sup_con);\nmc_arcs = dual.(cap_con);\nfor s in S, p in P\n    println(\"The marginal costs for the supply $s for the product $p is: $(mc_supply[s,p])\")\nend\nfor a in A\n    if cap[a[1],a[2]] < Inf\n        println(\"The marginal costs for the arc $a is: $(mc_arcs[a])\")\n    end\nend\nfor a in A, p in P\n    if costs[p,a[1],a[2]] < Inf\n        println(\"The value of $(x[a,p]) is $(value(x[a,p]))\")\n    end\nend"
      ],
      "metadata": {},
      "execution_count": null
    },
    {
      "outputs": [],
      "cell_type": "code",
      "source": [
        "## Raising the supply availability of product 1 at the first supply node by 1\nsup[1,1] = sup[1,1] + 1;"
      ],
      "metadata": {},
      "execution_count": null
    },
    {
      "outputs": [],
      "cell_type": "code",
      "source": [
        "## Define model using GLPK\nmodel = Model(GLPK.Optimizer);\n\n## Variables\n@variable(model, x[a in A, p in P; costs[p,a[1],a[2]] < Inf] >= 0);\n\n## OF\n@objective(model, Min, sum(costs[p,a[1],a[2]]*x[a,p] for p in P, a in A if costs[p,a[1],a[2]] < Inf));\n\n## Constraints\n@constraint(model, sup_con[s in S, p in P], sum(x[a,p] for a in A if costs[p,a[1],a[2]] < Inf && a[1] == s) <= sup[s,p]);       # sum of everything that leaves supplier s\n@constraint(model, dem_con[d in D, p in P], sum(x[a,p] for a in A if costs[p,a[1],a[2]] < Inf && a[2] == d) >= dem[d,p]);       # sum of everything that arrives at demand d\n@constraint(model, cap_con[a in A; cap[a[1],a[2]] < Inf], sum(x[a,p] for p in P if costs[p,a[1],a[2]] < Inf) <= cap[a[1],a[2]]);# arc capacity constraints"
      ],
      "metadata": {},
      "execution_count": null
    },
    {
      "outputs": [],
      "cell_type": "code",
      "source": [
        "set_silent(model)\noptimize!(model)\nstatus = termination_status(model)\nprintln(status)"
      ],
      "metadata": {},
      "execution_count": null
    },
    {
      "outputs": [],
      "cell_type": "code",
      "source": [
        "## New optimal value\nnew_obj = objective_value(model)"
      ],
      "metadata": {},
      "execution_count": null
    },
    {
      "outputs": [],
      "cell_type": "code",
      "source": [
        "## Decrease in the optimal value\nnew_obj - obj"
      ],
      "metadata": {},
      "execution_count": null
    },
    {
      "outputs": [],
      "cell_type": "code",
      "source": [
        "mc_supply[1,1]"
      ],
      "metadata": {},
      "execution_count": null
    },
    {
      "cell_type": "markdown",
      "source": [
        "The marginal cost predicted the change in objective value correctly. Let's now try changing another bound."
      ],
      "metadata": {}
    },
    {
      "outputs": [],
      "cell_type": "code",
      "source": [
        "## Back to the original supply availability\nsup[1,1] = sup[1,1] - 1;"
      ],
      "metadata": {},
      "execution_count": null
    },
    {
      "outputs": [],
      "cell_type": "code",
      "source": [
        "sup[1,1]"
      ],
      "metadata": {},
      "execution_count": null
    },
    {
      "outputs": [],
      "cell_type": "code",
      "source": [
        "## Increasing the arc capacity by 1 for the arc from supplier 2 to demand node 2\ncap[2, 2] = cap[2, 2] + 1;"
      ],
      "metadata": {},
      "execution_count": null
    },
    {
      "outputs": [],
      "cell_type": "code",
      "source": [
        "## Define model using GLPK\nmodel = Model(GLPK.Optimizer);\n\n## Variables\n@variable(model, x[a in A, p in P; costs[p,a[1],a[2]] < Inf] >= 0);\n\n## OF\n@objective(model, Min, sum(costs[p,a[1],a[2]]*x[a,p] for p in P, a in A if costs[p,a[1],a[2]] < Inf));\n\n## Constraints\n@constraint(model, sup_con[s in S, p in P], sum(x[a,p] for a in A if costs[p,a[1],a[2]] < Inf && a[1] == s) <= sup[s,p]);       # sum of everything that leaves supplier s\n@constraint(model, dem_con[d in D, p in P], sum(x[a,p] for a in A if costs[p,a[1],a[2]] < Inf && a[2] == d) >= dem[d,p]);       # sum of everything that arrives at demand d\n@constraint(model, cap_con[a in A; cap[a[1],a[2]] < Inf], sum(x[a,p] for p in P if costs[p,a[1],a[2]] < Inf) <= cap[a[1],a[2]]);# arc capacity constraints"
      ],
      "metadata": {},
      "execution_count": null
    },
    {
      "outputs": [],
      "cell_type": "code",
      "source": [
        "set_silent(model)\noptimize!(model)\nstatus = termination_status(model)\nprintln(status)"
      ],
      "metadata": {},
      "execution_count": null
    },
    {
      "outputs": [],
      "cell_type": "code",
      "source": [
        "## New optimal value\nnew_obj = objective_value(model)"
      ],
      "metadata": {},
      "execution_count": null
    },
    {
      "outputs": [],
      "cell_type": "code",
      "source": [
        "new_obj-obj"
      ],
      "metadata": {},
      "execution_count": null
    },
    {
      "outputs": [],
      "cell_type": "code",
      "source": [
        "mc_arcs[(2, 2)]"
      ],
      "metadata": {},
      "execution_count": null
    },
    {
      "cell_type": "markdown",
      "source": [
        "Turns out the marginal cost that we calculated did not predict this change correctly. Comparing the solution below, we notice that one unit of product 1 to demand point 2 is now transported from supplier 2 instead of supplier 3 due to the increased capacity of arc 2->2. This shows that you should always check whether you can apply marginal costs. If the optimal basis changes because of a change in $b$, you can't apply marginal costs."
      ],
      "metadata": {}
    },
    {
      "outputs": [],
      "cell_type": "code",
      "source": [
        "## Computing the duals to infer the marginal costs\nmc_supply = dual.(sup_con);\nmc_arcs = dual.(cap_con);\nfor s in S, p in P\n    println(\"The marginal costs for the supply $s for the product $p is: $(mc_supply[s,p])\")\nend\nfor a in A\n    if cap[a[1],a[2]] < Inf\n        println(\"The marginal costs for the arc $a is: $(mc_arcs[a])\")\n    end\nend\nfor a in A, p in P\n    if costs[p,a[1],a[2]] < Inf\n        println(\"The value of $(x[a,p]) is $(value(x[a,p]))\")\n    end\nend"
      ],
      "metadata": {},
      "execution_count": null
    },
    {
      "cell_type": "markdown",
      "source": [
        "### Problem 5.5 - Complementary slackness\nRecall the paint factory problem introduced in Section 1.2.1. of the lecture notes"
      ],
      "metadata": {}
    },
    {
      "outputs": [],
      "cell_type": "code",
      "source": [
        "A = [6 4; 1 2; -1 1; 0 1]\nb = [24; 6; 1; 2]\nc = [5; 4];"
      ],
      "metadata": {},
      "execution_count": null
    },
    {
      "cell_type": "markdown",
      "source": [
        "#### Solving the primal and dual problems\nFormulate and solve the two problems to obtain their optimal solutions"
      ],
      "metadata": {}
    },
    {
      "outputs": [],
      "cell_type": "code",
      "source": [
        "# TODO: add your code here"
      ],
      "metadata": {},
      "execution_count": null
    },
    {
      "outputs": [],
      "cell_type": "code",
      "source": [
        "# TODO: add your code here"
      ],
      "metadata": {},
      "execution_count": null
    },
    {
      "cell_type": "markdown",
      "source": [
        "#### Complementary slackness\nVerify the optimality of your solutions using complementary slackness"
      ],
      "metadata": {}
    },
    {
      "outputs": [],
      "cell_type": "code",
      "source": [
        "# TODO: add your code here"
      ],
      "metadata": {},
      "execution_count": null
    },
    {
      "outputs": [],
      "cell_type": "code",
      "source": [
        ""
      ],
      "metadata": {},
      "execution_count": null
    }
  ],
  "nbformat_minor": 2,
  "metadata": {
    "language_info": {
      "file_extension": ".jl",
      "mimetype": "application/julia",
      "name": "julia",
      "version": "1.5.1"
    },
    "kernelspec": {
      "name": "julia-1.5",
      "display_name": "Julia 1.5.1",
      "language": "julia"
    }
  },
  "nbformat": 4
}
