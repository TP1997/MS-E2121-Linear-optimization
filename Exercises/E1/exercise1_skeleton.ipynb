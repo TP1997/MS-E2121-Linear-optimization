{
  "cells": [
    {
      "outputs": [],
      "cell_type": "code",
      "source": [
        "using JuMP, Cbc, Plots"
      ],
      "metadata": {},
      "execution_count": null
    },
    {
      "cell_type": "markdown",
      "source": [
        "# MS-E2121 - Linear optimization\n## Exercise session 1\n\nFirst, we warm up with two small optimization problems. After that, you are expected to solve a small transportation problem.\n#' \n### Demo exercise a)\n\\begin{align}\n    \\max \\ & x_1 + 2x_2 + 5x_3 \\\\\n    \\text{s.t. } & x_1 - x_2 -3x_3 && \\geq 5 \\\\\n    & x_1 + 3x_2 - 7x_3 && \\leq 10 \\\\\n    & x_1 && \\leq 10 \\\\\n    & x_i \\geq 0, \\ \\forall i \\in \\{1,2,3\\}\n\\end{align}"
      ],
      "metadata": {}
    },
    {
      "outputs": [],
      "cell_type": "code",
      "source": [
        "model_a = Model(Cbc.Optimizer);"
      ],
      "metadata": {},
      "execution_count": null
    },
    {
      "outputs": [],
      "cell_type": "code",
      "source": [
        "@variable(model_a, x[1:3] >= 0)"
      ],
      "metadata": {},
      "execution_count": null
    },
    {
      "outputs": [],
      "cell_type": "code",
      "source": [
        "@objective(model_a, Max, x[1] + 2*x[2] + 5*x[3])"
      ],
      "metadata": {},
      "execution_count": null
    },
    {
      "outputs": [],
      "cell_type": "code",
      "source": [
        "@constraint(model_a, x[1] - x[2] - 3*x[3] >= 5)\n@constraint(model_a, x[1] + 3*x[2] - 7*x[3] <= 10)\n@constraint(model_a, x[1] <= 10)"
      ],
      "metadata": {},
      "execution_count": null
    },
    {
      "outputs": [],
      "cell_type": "code",
      "source": [
        "println(model_a)"
      ],
      "metadata": {},
      "execution_count": null
    },
    {
      "outputs": [],
      "cell_type": "code",
      "source": [
        "optimize!(model_a)"
      ],
      "metadata": {},
      "execution_count": null
    },
    {
      "cell_type": "markdown",
      "source": [
        "#### Extracting the solutions:\n- termination_status(model) gives the reason for stopping the optimization process.\n- objective_value(model) gives the final objective value\n- value(model[:variable]) gives the final value of the given variable in the model. We could also do value(x) instead, since we only have one model. If we have multiple models each with a variable named x, value(x) would return the values corresponding to the variable that was defined last."
      ],
      "metadata": {}
    },
    {
      "outputs": [],
      "cell_type": "code",
      "source": [
        "println(termination_status(model_a))\nprintln(objective_value(model_a))\nprintln(value.(model_a[:x]))"
      ],
      "metadata": {},
      "execution_count": null
    },
    {
      "outputs": [],
      "cell_type": "code",
      "source": [
        "if termination_status(model_a) == MOI.OPTIMAL\n    println(\"Found optimal solution $(objective_value(model_a)) at x=$(value.(model_a[:x]))\")\nelse\n    println(\"Optimization terminated with status $(termination_status(model_a))\")\nend"
      ],
      "metadata": {},
      "execution_count": null
    },
    {
      "cell_type": "markdown",
      "source": [
        "### Demo exercise b)\n\\begin{align}\n    \\max \\ & 2x_1 + 4x_2 \\\\\n    \\text{s.t. } & x_1 + x_2 && \\leq 5 \\\\\n    & -x_1 + 3x_2 && \\leq 1 \\\\\n    & x_1 && \\leq 5 \\\\\n    & x_2 && \\leq 5 \\\\\n    & x_i \\geq 0, \\ \\forall i \\in \\{1,2\\}\n\\end{align}\n\n$~$$~$\n\nWhile it is possible to write out the constraints individually, it is sometimes preferable to use the matrix form:\n\\begin{align}\n    \\max \\ & c^\\top x \\\\\n    \\text{s.t. } & Ax && \\leq b \\\\\n    & x_i \\geq 0, \\ \\forall i \\in \\{1,2\\},\n\\end{align}\n\n$~$\n$~$\n\nwhere for this problem, $c = \\begin{bmatrix}\n2 \\\\\n4 \n\\end{bmatrix}$, $A = \\begin{bmatrix}\n1 & 1 \\\\\n-1 & 3 \\\\\n1 & 0 \\\\\n0 & 1 \n\\end{bmatrix}$ and $b = \\begin{bmatrix}\n5 \\\\\n1 \\\\\n5 \\\\\n5 \n\\end{bmatrix}$"
      ],
      "metadata": {}
    },
    {
      "outputs": [],
      "cell_type": "code",
      "source": [
        "c = [2 4]\nA = [1 1; -1 3; 1 0; 0 1]\nb = [5 1 5 5]'\nmodel_b = Model(Cbc.Optimizer);"
      ],
      "metadata": {},
      "execution_count": null
    },
    {
      "outputs": [],
      "cell_type": "code",
      "source": [
        "@variable(model_b, x[i=1:2] >= 0)"
      ],
      "metadata": {},
      "execution_count": null
    },
    {
      "outputs": [],
      "cell_type": "code",
      "source": [
        "@objective(model_b, Max, sum(c[i]*x[i] for i in 1:2))"
      ],
      "metadata": {},
      "execution_count": null
    },
    {
      "outputs": [],
      "cell_type": "code",
      "source": [
        "@constraint(model_b, [j in 1:4], sum(A[j,i]*x[i] for i in 1:2) .<= b[j])"
      ],
      "metadata": {},
      "execution_count": null
    },
    {
      "outputs": [],
      "cell_type": "code",
      "source": [
        "println(model_b)"
      ],
      "metadata": {},
      "execution_count": null
    },
    {
      "outputs": [],
      "cell_type": "code",
      "source": [
        "optimize!(model_b)"
      ],
      "metadata": {},
      "execution_count": null
    },
    {
      "outputs": [],
      "cell_type": "code",
      "source": [
        "println(termination_status(model_b))\nprintln(objective_value(model_b))\nprintln(value.(model_b[:x]))"
      ],
      "metadata": {},
      "execution_count": null
    },
    {
      "outputs": [],
      "cell_type": "code",
      "source": [
        "if termination_status(model_b) == MOI.OPTIMAL\n    println(\"Found optimal solution $(objective_value(model_b)) at x=$(value.(model_b[:x]))\")\nelse\n    println(\"Optimization terminated with status $(termination_status(model_b))\")\nend"
      ],
      "metadata": {},
      "execution_count": null
    },
    {
      "cell_type": "markdown",
      "source": [
        "We can also plot the constraints, the corresponding feasible region and the objective function at the optimal point to verify our result. We can see that the objective function indeed touches a vertex of the feasible region at x = (3.5, 1.5)."
      ],
      "metadata": {}
    },
    {
      "outputs": [],
      "cell_type": "code",
      "source": [
        "function plot_model(A, b, c; sol=nothing, xlim=5, ylim=5)\n    \n    # Check problem dimensions and throw an error if not 2D\n    m,n = size(A)\n    if n != 2\n        throw(ArgumentError(\"Model is not 2-dimensional\"))\n    end\n    \n    # Some ranges to help with plotting, these are similar to what you may have used in Matlab\n    x1_range = collect(0:0.1:5)\n    x2_range = collect(0:0.1:5)\n    \n    # Create empty plot\n    plot(xlim=(-1,6), ylim=(-1,6), xlabel=\"x1\", ylabel=\"x2\")\n    \n    # Add lines Ax=b to the plot \n    for con in 1:m\n        a_x1 = A[con,1]\n        a_x2 = A[con,2]\n        if a_x1!=0 && a_x2!=0\n            plot!(x1_range, (-a_x1*x1_range.+b[con])/a_x2, label=\"$(a_x1==1 ? \"\" : a_x1)x1+$(a_x2==1 ? \"\" : a_x2)x2=$(b[con])\")\n        elseif a_x1!=0 && a_x2==0\n            vline!([b[con]], label=\"$(a_x1==1 ? \"\" : a_x1)x1=$(b[con])\")\n        elseif a_x1==0 && a_x2!=0\n            hline!([b[con]], label=\"$(a_x2==1 ? \"\" : a_x2)x2=$(b[con])\")\n        end\n    end\n    vline!([0], label=\"x1=0\")\n    hline!([0], label=\"x2=0\")\n\n    # Collect the points in the feasible region using a grid\n    feasible_region = []\n    for x1 in x1_range\n        for x2 in x2_range\n            if all(A*[x1;x2].<=b)\n                push!(feasible_region, [x1, x2])\n            end\n        end\n    end\n\n    # Turn the array of arrays into a 2D-array and plot the points\n    feasible_region = hcat(feasible_region...)\n    scatter!(feasible_region[1,:], feasible_region[2,:], ms=1, label=false)\n    \n    # If objective function value was given as an argument, plot the objective function with that value\n    if !isnothing(sol)\n        plot!(x1_range, (-c[1]*x1_range.+sol)/c[2], linestyle=:dash, linewidth=2, color=:black, label=\"Objective function\")\n    end\n    \n    # This is how you would add a title to your plot\n    title!(\"\")\nend\n\nplot_model(A,b,c; sol=13)"
      ],
      "metadata": {},
      "execution_count": null
    },
    {
      "cell_type": "markdown",
      "source": [
        "### Student exercise\n\n_Source: Julia Programming for Operations Research 2$^{nd}$ edition (Online)._\n_Available at: http://www.chkwon.net/julia - published by Changhyun Kwon_\n\n$~$\n$~$\n\nConsider the following network where the combined supplies from the Austin and Buffalo nodes need to meet the demands coming from Chicago, Denver, and Erie. The supplies available are represented by $S$ and the demands by $D$, the costs of transporting in each arc connecting supply and demand nodes are shown as $c$.\n\n<img src=\"https://softcover.s3.amazonaws.com/13172/juliabook2/images/network/example_transportation.png\" max-width=400px/>\nSolve the transportation problem to the minimum cost. The data is given, you will need to:\n\n- create decision variables (What are the decisions in this problem? The amount transported from city i to city j.)\n- formulate the objective function (What are we minimizing? The total transportation cost.)\n- write constraints (What constraints need to be satisfied? Suppliers cannot send out more than their supply capacity and the demand in each node must be fulfilled.)\n\nThe correct optimal cost is 251."
      ],
      "metadata": {}
    },
    {
      "outputs": [],
      "cell_type": "code",
      "source": [
        "# Supply nodes and their capacities\nsupply_nodes = [\"Austin\" \"Buffalo\"]\nS = [15 25]\n# Demand nodes and corresponding demands\ndemand_nodes = [\"Chicago\" \"Denver\" \"Erie\"]\nD = [15 12 13]\n# Transportation unit costs\nc = [10 7 9; 4 9 8]\n\n# Converting arrays to dictionaries\ns_dict = Dict(supply_nodes .=> S)\nd_dict = Dict(demand_nodes .=> D)\nc_dict = Dict( (supply_nodes[i], demand_nodes[j]) => c[i,j]\n          for i in 1:length(supply_nodes), j in 1:length(demand_nodes) )"
      ],
      "metadata": {},
      "execution_count": null
    },
    {
      "outputs": [],
      "cell_type": "code",
      "source": [
        ""
      ],
      "metadata": {},
      "execution_count": null
    }
  ],
  "nbformat_minor": 2,
  "metadata": {
    "language_info": {
      "file_extension": ".jl",
      "mimetype": "application/julia",
      "name": "julia",
      "version": "1.5.1"
    },
    "kernelspec": {
      "name": "julia-1.5",
      "display_name": "Julia 1.5.1",
      "language": "julia"
    }
  },
  "nbformat": 4
}
