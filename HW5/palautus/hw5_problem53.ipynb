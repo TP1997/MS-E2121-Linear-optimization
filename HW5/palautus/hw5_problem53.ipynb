{
 "cells": [
  {
   "cell_type": "code",
   "execution_count": 1,
   "metadata": {},
   "outputs": [],
   "source": [
    "using JuMP\n",
    "using Cbc"
   ]
  },
  {
   "cell_type": "code",
   "execution_count": 2,
   "metadata": {},
   "outputs": [],
   "source": [
    "# Set problem parameters\n",
    "# Jobs.\n",
    "M = 1:4;\n",
    "# Agents.\n",
    "N=1:2;\n",
    "# Work capacities for both agents.\n",
    "b = [7,6];\n",
    "# Profits when specific job is assigned to an agent.\n",
    "c = [6 2; 7 7; 4 8; 3 3];\n",
    "# Work capacity consumptions for both agents.\n",
    "a = [5 3; 7 1; 4 6; 2 4];"
   ]
  },
  {
   "cell_type": "code",
   "execution_count": 3,
   "metadata": {},
   "outputs": [
    {
     "data": {
      "text/plain": [
       "1-dimensional DenseAxisArray{ConstraintRef{Model, MathOptInterface.ConstraintIndex{MathOptInterface.ScalarAffineFunction{Float64}, MathOptInterface.LessThan{Float64}}, ScalarShape},1,...} with index sets:\n",
       "    Dimension 1, 1:2\n",
       "And data, a 2-element Vector{ConstraintRef{Model, MathOptInterface.ConstraintIndex{MathOptInterface.ScalarAffineFunction{Float64}, MathOptInterface.LessThan{Float64}}, ScalarShape}}:\n",
       " 5 x[1,1] + 7 x[2,1] + 4 x[3,1] + 2 x[4,1] ≤ 7.0\n",
       " 3 x[1,2] + x[2,2] + 6 x[3,2] + 4 x[4,2] ≤ 6.0"
      ]
     },
     "execution_count": 3,
     "metadata": {},
     "output_type": "execute_result"
    }
   ],
   "source": [
    "# Problem definition\n",
    "model = Model(Cbc.Optimizer)\n",
    "\n",
    "# Define variables\n",
    "@variable(model, x[i=M, j=N], Bin)\n",
    "\n",
    "# Define profit maximization objective\n",
    "@objective(model, Max, sum(c[i,j]*x[i,j] for i in M, j in N))\n",
    "\n",
    "# Define constraints\n",
    "@constraint(model, [i in M], sum(x[i,j] for j in N) <= 1)\n",
    "@constraint(model, [j in N], sum(a[i,j]*x[i,j] for i in M) <= b[j])\n"
   ]
  },
  {
   "cell_type": "code",
   "execution_count": 4,
   "metadata": {},
   "outputs": [
    {
     "name": "stdout",
     "output_type": "stream",
     "text": [
      "Welcome to the CBC MILP Solver \n",
      "Version: 2.10.5 \n",
      "Build Date: Jan  1 1970 \n",
      "\n",
      "command line - Cbc_C_Interface -solve -quit (default strategy 1)\n",
      "Continuous objective value is 22.6667 - 0.00 seconds\n",
      "Cgl0004I processed model has 6 rows, 8 columns (8 integer (8 of which binary)) and 16 elements\n",
      "Cutoff increment increased from 1e-05 to 0.9999\n",
      "Cbc0038I Initial state - 1 integers unsatisfied sum - 0.166667\n",
      "Cbc0038I Pass   1: suminf.    0.16667 (1) obj. -22.6667 iterations 1\n",
      "Cbc0038I Solution found of -16\n",
      "Cbc0038I Before mini branch and bound, 7 integers at bound fixed and 0 continuous\n",
      "Cbc0038I Full problem 6 rows 8 columns, reduced to 0 rows 0 columns\n",
      "Cbc0038I Mini branch and bound did not improve solution (0.00 seconds)\n",
      "Cbc0038I Round again with cutoff of -17.5666\n",
      "Cbc0038I Reduced cost fixing fixed 1 variables on major pass 2\n",
      "Cbc0038I Pass   2: suminf.    0.16667 (1) obj. -22.6667 iterations 0\n",
      "Cbc0038I Pass   3: suminf.    0.19582 (1) obj. -17.5666 iterations 1\n",
      "Cbc0038I Pass   4: suminf.    0.22498 (2) obj. -17.5666 iterations 6\n",
      "Cbc0038I Pass   5: suminf.    0.22498 (2) obj. -17.5666 iterations 1\n",
      "Cbc0038I Pass   6: suminf.    0.60000 (3) obj. -19.0667 iterations 3\n",
      "Cbc0038I Pass   7: suminf.    0.40000 (1) obj. -17.6 iterations 1\n",
      "Cbc0038I Pass   8: suminf.    0.40557 (1) obj. -17.5666 iterations 2\n",
      "Cbc0038I Pass   9: suminf.    0.40557 (1) obj. -17.5666 iterations 0\n",
      "Cbc0038I Pass  10: suminf.    0.33327 (2) obj. -17.5666 iterations 4\n",
      "Cbc0038I Pass  11: suminf.    0.85000 (3) obj. -18.25 iterations 6\n",
      "Cbc0038I Pass  12: suminf.    1.11332 (3) obj. -17.5666 iterations 2\n",
      "Cbc0038I Pass  13: suminf.    0.80453 (3) obj. -17.5666 iterations 4\n",
      "Cbc0038I Pass  14: suminf.    0.51668 (2) obj. -17.5666 iterations 3\n",
      "Cbc0038I Pass  15: suminf.    0.16667 (1) obj. -19.6667 iterations 2\n",
      "Cbc0038I Pass  16: suminf.    0.42918 (1) obj. -17.5666 iterations 1\n",
      "Cbc0038I Pass  17: suminf.    0.22498 (2) obj. -17.5666 iterations 3\n",
      "Cbc0038I Pass  18: suminf.    0.22498 (2) obj. -17.5666 iterations 0\n",
      "Cbc0038I Pass  19: suminf.    0.60000 (3) obj. -19.0667 iterations 3\n",
      "Cbc0038I Pass  20: suminf.    0.40000 (1) obj. -17.6 iterations 1\n",
      "Cbc0038I Pass  21: suminf.    0.40557 (1) obj. -17.5666 iterations 2\n",
      "Cbc0038I Pass  22: suminf.    0.40000 (1) obj. -17.6 iterations 3\n",
      "Cbc0038I Pass  23: suminf.    0.40557 (1) obj. -17.5666 iterations 3\n",
      "Cbc0038I Pass  24: suminf.    0.85000 (3) obj. -18.25 iterations 4\n",
      "Cbc0038I Pass  25: suminf.    0.60000 (3) obj. -19.0667 iterations 2\n",
      "Cbc0038I Pass  26: suminf.    0.46667 (3) obj. -22.5333 iterations 2\n",
      "Cbc0038I Pass  27: suminf.    0.16667 (1) obj. -22.6667 iterations 1\n",
      "Cbc0038I Pass  28: suminf.    0.19582 (1) obj. -17.5666 iterations 1\n",
      "Cbc0038I Pass  29: suminf.    0.42918 (1) obj. -17.5666 iterations 3\n",
      "Cbc0038I Pass  30: suminf.    0.16667 (1) obj. -19.6667 iterations 2\n",
      "Cbc0038I Pass  31: suminf.    0.42918 (1) obj. -17.5666 iterations 1\n",
      "Cbc0038I Before mini branch and bound, 2 integers at bound fixed and 0 continuous\n",
      "Cbc0038I Full problem 6 rows 8 columns, reduced to 4 rows 5 columns\n",
      "Cbc0038I Mini branch and bound did not improve solution (0.01 seconds)\n",
      "Cbc0038I Round again with cutoff of -18.5866\n",
      "Cbc0038I Reduced cost fixing fixed 1 variables on major pass 3\n",
      "Cbc0038I Pass  31: suminf.    0.16667 (1) obj. -22.6667 iterations 0\n",
      "Cbc0038I Pass  32: suminf.    0.32332 (1) obj. -18.5866 iterations 1\n",
      "Cbc0038I Pass  33: suminf.    1.29330 (4) obj. -18.5866 iterations 4\n",
      "Cbc0038I Pass  34: suminf.    1.29330 (4) obj. -18.5866 iterations 2\n",
      "Cbc0038I Pass  35: suminf.    1.29330 (4) obj. -18.5866 iterations 0\n",
      "Cbc0038I Pass  36: suminf.    1.23402 (6) obj. -18.5866 iterations 1\n",
      "Cbc0038I Pass  37: suminf.    0.53454 (3) obj. -18.5866 iterations 4\n",
      "Cbc0038I Pass  38: suminf.    0.34668 (2) obj. -18.5866 iterations 4\n",
      "Cbc0038I Pass  39: suminf.    0.16667 (1) obj. -19.6667 iterations 2\n",
      "Cbc0038I Pass  40: suminf.    0.30168 (1) obj. -18.5866 iterations 1\n",
      "Cbc0038I Pass  41: suminf.    0.16667 (1) obj. -19.6667 iterations 1\n",
      "Cbc0038I Pass  42: suminf.    0.30168 (1) obj. -18.5866 iterations 1\n",
      "Cbc0038I Pass  43: suminf.    0.47998 (2) obj. -18.5866 iterations 3\n",
      "Cbc0038I Pass  44: suminf.    0.47998 (2) obj. -18.5866 iterations 0\n",
      "Cbc0038I Pass  45: suminf.    0.60000 (3) obj. -19.0667 iterations 3\n",
      "Cbc0038I Pass  46: suminf.    0.53454 (3) obj. -18.5866 iterations 1\n",
      "Cbc0038I Pass  47: suminf.    0.34668 (2) obj. -18.5866 iterations 4\n",
      "Cbc0038I Pass  48: suminf.    0.16667 (1) obj. -19.6667 iterations 2\n",
      "Cbc0038I Pass  49: suminf.    0.30168 (1) obj. -18.5866 iterations 1\n",
      "Cbc0038I Pass  50: suminf.    0.16667 (1) obj. -19.6667 iterations 1\n",
      "Cbc0038I Pass  51: suminf.    0.30168 (1) obj. -18.5866 iterations 1\n",
      "Cbc0038I Pass  52: suminf.    0.93815 (2) obj. -18.5866 iterations 2\n",
      "Cbc0038I Pass  53: suminf.    0.47998 (2) obj. -18.5866 iterations 2\n",
      "Cbc0038I Pass  54: suminf.    0.47998 (2) obj. -18.5866 iterations 0\n",
      "Cbc0038I Pass  55: suminf.    0.60000 (3) obj. -19.0667 iterations 3\n",
      "Cbc0038I Pass  56: suminf.    0.53454 (3) obj. -18.5866 iterations 1\n",
      "Cbc0038I Pass  57: suminf.    0.34668 (2) obj. -18.5866 iterations 4\n",
      "Cbc0038I Pass  58: suminf.    0.16667 (1) obj. -19.6667 iterations 2\n",
      "Cbc0038I Pass  59: suminf.    0.30168 (1) obj. -18.5866 iterations 1\n",
      "Cbc0038I Pass  60: suminf.    0.16667 (1) obj. -19.6667 iterations 2\n",
      "Cbc0038I No solution found this major pass\n",
      "Cbc0038I Before mini branch and bound, 2 integers at bound fixed and 0 continuous\n",
      "Cbc0038I Full problem 6 rows 8 columns, reduced to 4 rows 5 columns\n",
      "Cbc0038I Mini branch and bound did not improve solution (0.01 seconds)\n",
      "Cbc0038I After 0.01 seconds - Feasibility pump exiting with objective of -16 - took 0.01 seconds\n",
      "Cbc0012I Integer solution of -16 found by feasibility pump after 0 iterations and 0 nodes (0.01 seconds)\n",
      "Cbc0012I Integer solution of -17 found by DiveCoefficient after 0 iterations and 0 nodes (0.01 seconds)\n",
      "Cbc0013I At root node, 0 cuts changed objective from -22.666667 to -17 in 2 passes\n",
      "Cbc0014I Cut generator 0 (Probing) - 0 row cuts average 0.0 elements, 4 column cuts (4 active)  in 0.000 seconds - new frequency is 1\n",
      "Cbc0014I Cut generator 1 (Gomory) - 0 row cuts average 0.0 elements, 0 column cuts (0 active)  in 0.000 seconds - new frequency is -100\n",
      "Cbc0014I Cut generator 2 (Knapsack) - 0 row cuts average 0.0 elements, 0 column cuts (0 active)  in 0.000 seconds - new frequency is -100\n",
      "Cbc0014I Cut generator 3 (Clique) - 0 row cuts average 0.0 elements, 0 column cuts (0 active)  in 0.000 seconds - new frequency is -100\n",
      "Cbc0014I Cut generator 4 (MixedIntegerRounding2) - 0 row cuts average 0.0 elements, 0 column cuts (0 active)  in 0.000 seconds - new frequency is -100\n",
      "Cbc0014I Cut generator 5 (FlowCover) - 0 row cuts average 0.0 elements, 0 column cuts (0 active)  in 0.000 seconds - new frequency is -100\n",
      "Cbc0001I Search completed - best objective -17, took 0 iterations and 0 nodes (0.01 seconds)\n",
      "Cbc0035I Maximum depth 0, 0 variables fixed on reduced cost\n",
      "Cuts at root node changed objective from -22.6667 to -17\n",
      "Probing was tried 2 times and created 4 cuts of which 0 were active after adding rounds of cuts (0.000 seconds)\n",
      "Gomory was tried 2 times and created 0 cuts of which 0 were active after adding rounds of cuts (0.000 seconds)\n",
      "Knapsack was tried 2 times and created 0 cuts of which 0 were active after adding rounds of cuts (0.000 seconds)\n",
      "Clique was tried 2 times and created 0 cuts of which 0 were active after adding rounds of cuts (0.000 seconds)\n",
      "MixedIntegerRounding2 was tried 2 times and created 0 cuts of which 0 were active after adding rounds of cuts (0.000 seconds)\n",
      "FlowCover was tried 2 times and created 0 cuts of which 0 were active after adding rounds of cuts (0.000 seconds)\n",
      "TwoMirCuts was tried 1 times and created 0 cuts of which 0 were active after adding rounds of cuts (0.000 seconds)\n",
      "ZeroHalf was tried 1 times and created 0 cuts of which 0 were active after adding rounds of cuts (0.000 seconds)\n",
      "\n",
      "Result - Optimal solution found\n",
      "\n",
      "Objective value:                17.00000000\n",
      "Enumerated nodes:               0\n",
      "Total iterations:               0\n",
      "Time (CPU seconds):             0.02\n",
      "Time (Wallclock seconds):       0.01\n",
      "\n",
      "Total time (CPU seconds):       0.02   (Wallclock seconds):       0.01\n",
      "\n"
     ]
    }
   ],
   "source": [
    "# Solve problem\n",
    "optimize!(model)"
   ]
  },
  {
   "cell_type": "code",
   "execution_count": 5,
   "metadata": {},
   "outputs": [
    {
     "name": "stdout",
     "output_type": "stream",
     "text": [
      "x_bar = Int.(round.(value.(model[:x]).data)) = [1 0; 0 0; 0 1; 1 0]\n"
     ]
    },
    {
     "data": {
      "text/plain": [
       "4×2 Matrix{Int64}:\n",
       " 1  0\n",
       " 0  0\n",
       " 0  1\n",
       " 1  0"
      ]
     },
     "execution_count": 5,
     "metadata": {},
     "output_type": "execute_result"
    }
   ],
   "source": [
    "# Examine the solution\n",
    "@show x_bar = Int.(round.(value.(model[:x]).data))"
   ]
  },
  {
   "cell_type": "code",
   "execution_count": 6,
   "metadata": {},
   "outputs": [
    {
     "name": "stdout",
     "output_type": "stream",
     "text": [
      "Jobs assigned for agent 1: [1, 4]\n",
      "Jobs assigned for agent 2: [3]\n",
      "Total profits of assignments: 17.0\n"
     ]
    }
   ],
   "source": [
    "# Pretty print of solution:\n",
    "println(\"Jobs assigned for agent 1: $(findall(x->x==1, x_bar[:,1]))\")\n",
    "println(\"Jobs assigned for agent 2: $(findall(x->x==1, x_bar[:,2]))\")\n",
    "println(\"Total profits of assignments: $(objective_value(model))\")"
   ]
  },
  {
   "cell_type": "code",
   "execution_count": null,
   "metadata": {},
   "outputs": [],
   "source": []
  }
 ],
 "metadata": {
  "kernelspec": {
   "display_name": "Julia 1.6.2",
   "language": "julia",
   "name": "julia-1.6"
  },
  "language_info": {
   "file_extension": ".jl",
   "mimetype": "application/julia",
   "name": "julia",
   "version": "1.6.2"
  }
 },
 "nbformat": 4,
 "nbformat_minor": 4
}
